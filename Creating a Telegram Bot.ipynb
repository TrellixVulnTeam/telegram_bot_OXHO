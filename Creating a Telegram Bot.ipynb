{
 "cells": [
  {
   "cell_type": "code",
   "execution_count": 1,
   "metadata": {},
   "outputs": [],
   "source": [
    "# Scrape a Climbing Website: Onsight\n",
    "# Connect to Telegram and send updates. IF there are changes."
   ]
  },
  {
   "cell_type": "code",
   "execution_count": 2,
   "metadata": {},
   "outputs": [],
   "source": [
    "# # When running in jupyter notebook, sometimes need to do this #\n",
    "\n",
    "# import os\n",
    "# import sys\n",
    "\n",
    "# # Need to add the anaconda environment to the PYTHONPATH\n",
    "# env_paths = ['/home/davidyam/anaconda3/envs/tele_bot/lib/python36.zip', \n",
    "#              '/home/davidyam/anaconda3/envs/tele_bot/lib/python3.6', \n",
    "#              '/home/davidyam/anaconda3/envs/tele_bot/lib/python3.6/lib-dynload', \n",
    "#              '/home/davidyam/anaconda3/envs/tele_bot/lib/python3.6/site-packages']\n",
    "\n",
    "# sys.path += env_paths\n",
    "\n",
    "# # Need to add the following to path:\n",
    "# # PATH=$PATH:/home/davidyam/Documents/2._Tutorials/telegram_bot/\n",
    "# current_wd = os.getcwd()\n",
    "# os.environ[\"PATH\"] += \":\"+current_wd\n",
    "\n",
    "# # When running in jupyter notebook, sometimes need to do this #"
   ]
  },
  {
   "cell_type": "code",
   "execution_count": 3,
   "metadata": {},
   "outputs": [],
   "source": [
    "import json\n",
    "import os\n",
    "from selenium.webdriver import Firefox\n",
    "from selenium.webdriver.firefox.options import Options\n",
    "from telegram import Bot\n",
    "from telegram.ext import Updater, CommandHandler \n",
    "import time"
   ]
  },
  {
   "cell_type": "code",
   "execution_count": 4,
   "metadata": {},
   "outputs": [],
   "source": [
    "# Must download and install the latest gecko driver\n",
    "\n",
    "# https://github.com/mozilla/geckodriver/releases"
   ]
  },
  {
   "cell_type": "code",
   "execution_count": 5,
   "metadata": {},
   "outputs": [],
   "source": [
    "# # Functions # #\n",
    "def scrape_website(browser, search_field, verbose=False):\n",
    "    \"\"\"\n",
    "        Scrapes the website and returns the list or None.\n",
    "    \"\"\"\n",
    "    # Try to scrape the website\n",
    "    try:\n",
    "        abd_dates = browser.find_element_by_id(search_field)\n",
    "        abd_dates_list = abd_dates.text.split(\"\\n\")\n",
    "        return abd_dates_list\n",
    "    except:\n",
    "        return None\n",
    "    \n",
    "def read_cached_file(cached_filepath, verbose=False):\n",
    "    \"\"\"\n",
    "        Read the cached file if it exist and return the cached list or None\n",
    "    \"\"\"\n",
    "    # Read the cached file if it exists\n",
    "    if os.path.exists(cached_filepath):\n",
    "        if verbose: print(\"Cached file exists, reading it\")\n",
    "        # Reading the cached file\n",
    "        with open(cached_filepath, 'r') as f:\n",
    "            cached_abd_dates_list = f.readlines()\n",
    "\n",
    "        cached_abd_dates_list = [x.replace(\"\\n\", \"\") for x in cached_abd_dates_list]\n",
    "        if verbose: print(cached_abd_dates_list)\n",
    "        return cached_abd_dates_list\n",
    "    else:\n",
    "        return None\n",
    "\n",
    "def write_to_cache(abd_dates_list, cached_filepath, verbose=False):\n",
    "    \"\"\"\n",
    "        Write a list to the cache file\n",
    "    \"\"\"\n",
    "    # Writing the cached file\n",
    "    with open(cached_filepath, 'w') as f:\n",
    "        for item in abd_dates_list:\n",
    "            f.write(\"%s\\n\" % item)\n",
    "        \n",
    "def run_all(bot, browser, chat_id, search_field, cached_filepath, verbose, reply):\n",
    "    abd_dates_list = scrape_website(browser, search_field, verbose)\n",
    "    if abd_dates_list is None:\n",
    "        message_str = \"David, error in scraping website & fetching content.\\nPlease check.\"\n",
    "        bot.send_message(chat_id=chat_id, text=message_str)\n",
    "        \n",
    "    cached_abd_dates_list = read_cached_file(cached_filepath, verbose)\n",
    "    if cached_abd_dates_list != None:\n",
    "        if abd_dates_list == cached_abd_dates_list:\n",
    "            if verbose: print(\"Scrapped list and cached list are the same, no change from cache.\")\n",
    "            if reply: \n",
    "                t = time.time()\n",
    "                message_str = \"Time is:\\n%s.\\n\\nNo Change from previous list!\" %(time.strftime('%Y-%m-%d %H:%M:%S %Z', time.localtime(t)))\n",
    "                bot.send_message(chat_id=chat_id, text=message_str)\n",
    "        else:\n",
    "            if verbose: print(\"Sending message to the group\")\n",
    "            changed_abd_dates_list = [x.strip() for x in abd_dates_list if x not in cached_abd_dates_list] \n",
    "            message_str = \"Hi everyone!\\n\\\n",
    "            This was changed on the Onsight ABD Verification Page \\n%s\" %(\"\\n\".join(changed_abd_dates_list))\n",
    "            bot.send_message(chat_id=chat_id, text=message_str)\n",
    "            \n",
    "            if verbose: print(\"Writing into the cached file\")\n",
    "            write_to_cache(abd_dates_list, cached_filepath, verbose)\n",
    "    else:\n",
    "        if verbose: print(\"First time run, no cached file found.\\n\\\n",
    "        writing to the cached filepath %s\" %(cached_filepath))\n",
    "        write_to_cache(abd_dates_list, cached_filepath, verbose)\n",
    "        \n",
    "        \n",
    "# # Functions # #"
   ]
  },
  {
   "cell_type": "code",
   "execution_count": 6,
   "metadata": {},
   "outputs": [],
   "source": [
    "# # INFO for Onsight Website and ID to scrape # #\n",
    "URL = \"https://onsightventures.wufoo.com/forms/r9dr3hh00sr0r9/\"\n",
    "\n",
    "SEARCH_FIELD = \"Field240\" # Search ID, see Selenium, find_element_by_id()\n",
    "# # Onsight Website and ID to scrape # #\n",
    "\n",
    "# # INFO for the cached file # #\n",
    "CACHED_FILEPATH = './cache.txt'\n",
    "# # INFO for the cached file # #\n",
    "\n",
    "# # INFO FOR THE TELEGRAM BOT # #\n",
    "# \n",
    "TOKEN_ID_FILEPATH = \"./token_id.json\"\n",
    "with open(TOKEN_ID_FILEPATH) as json_file:\n",
    "    cfg = json.load(json_file)\n",
    "# get TOKEN\n",
    "# see: https://github.com/python-telegram-bot/python-telegram-bot/wiki/Introduction-to-the-API\n",
    "TOKEN = cfg[\"TOKEN\"]\n",
    "\n",
    "# get GROUP_ID\n",
    "# see: https://stackoverflow.com/questions/32423837/telegram-bot-how-to-get-a-group-chat-id\n",
    "\n",
    "# Talk to your bot: $ /my_id @BoPangChanceYamBot\n",
    "# Go to this: $ https://api.telegram.org/bot<TOKEN>/getUpdates\n",
    "GROUP_ID = cfg[\"GROUP_ID\"]\n",
    "# # INFO FOR THE TELEGRAM BOT # #\n",
    "\n",
    "# # Other Options # #\n",
    "verbose = True # Whether to have verbose prints or not\n",
    "# # Other Options # #"
   ]
  },
  {
   "cell_type": "code",
   "execution_count": 7,
   "metadata": {},
   "outputs": [],
   "source": [
    "# Functions for Selenium  (???)\n",
    "opts = Options()\n",
    "opts.headless = True\n",
    "#assert opts.headless  # Operating in headless mode\n",
    "browser = Firefox(options=opts)\n",
    "\n",
    "# Parse the website\n",
    "browser.get(URL)"
   ]
  },
  {
   "cell_type": "code",
   "execution_count": 8,
   "metadata": {},
   "outputs": [],
   "source": [
    "# # For the scheduled checking # #\n",
    "\n",
    "bot = Bot(token=TOKEN)\n",
    "\n",
    "run_all(bot, browser, chat_id=GROUP_ID, search_field=SEARCH_FIELD, cached_filepath=CACHED_FILEPATH, \n",
    "        verbose=False, reply=True) #False)\n",
    "\n",
    "# # For the scheduled checking # #"
   ]
  },
  {
   "cell_type": "code",
   "execution_count": 9,
   "metadata": {},
   "outputs": [
    {
     "data": {
      "text/plain": [
       "<queue.Queue at 0x7f5d539bb748>"
      ]
     },
     "execution_count": 9,
     "metadata": {},
     "output_type": "execute_result"
    }
   ],
   "source": [
    "# # For the interactive bot # #\n",
    "\n",
    "updater = Updater(token=TOKEN, use_context=True)\n",
    "dispatcher = updater.dispatcher\n",
    "\n",
    "def get_help(update, context):\n",
    "    context.bot.send_message(chat_id=update.effective_chat.id, \n",
    "                             text=\"I'm a BoPangChanceYamBot, ask me one of the folllowing:\\n/check\\n/print\\n/time\")\n",
    "    \n",
    "def check_website(update, context):\n",
    "    run_all(context.bot, browser, update.effective_chat.id, search_field=SEARCH_FIELD, \n",
    "                                                   cached_filepath=CACHED_FILEPATH, \n",
    "                                                   verbose=False, reply=True)\n",
    "def print_cache(update, context):\n",
    "    cached_abd_dates_list = read_cached_file(CACHED_FILEPATH, verbose=False)\n",
    "    if cached_abd_dates_list != None:\n",
    "        message_str = \"Cache is:\\n\\n%s\" %(\"\\n\".join(cached_abd_dates_list))\n",
    "        context.bot.send_message(chat_id=update.effective_chat.id, text=message_str)\n",
    "    else:\n",
    "        context.bot.send_message(chat_id=update.effective_chat.id, text=\"No cache!\")\n",
    "\n",
    "def get_time(update, context):\n",
    "    t = time.time()\n",
    "    message_str = \"Time is:\\n%s\" %(time.strftime('%Y-%m-%d %H:%M:%S %Z', time.localtime(t)))\n",
    "    context.bot.send_message(chat_id=update.effective_chat.id, text=message_str)\n",
    "       \n",
    "dispatcher.add_handler(CommandHandler('help', get_help))\n",
    "dispatcher.add_handler(CommandHandler('check', check_website))\n",
    "dispatcher.add_handler(CommandHandler('print', print_cache))\n",
    "dispatcher.add_handler(CommandHandler('time', get_time))\n",
    "\n",
    "updater.start_polling()\n",
    "\n",
    "# # For the interactive bot # #"
   ]
  },
  {
   "cell_type": "code",
   "execution_count": null,
   "metadata": {},
   "outputs": [],
   "source": []
  }
 ],
 "metadata": {
  "kernelspec": {
   "display_name": "Python 3",
   "language": "python",
   "name": "python3"
  },
  "language_info": {
   "codemirror_mode": {
    "name": "ipython",
    "version": 3
   },
   "file_extension": ".py",
   "mimetype": "text/x-python",
   "name": "python",
   "nbconvert_exporter": "python",
   "pygments_lexer": "ipython3",
   "version": "3.6.10"
  }
 },
 "nbformat": 4,
 "nbformat_minor": 4
}
